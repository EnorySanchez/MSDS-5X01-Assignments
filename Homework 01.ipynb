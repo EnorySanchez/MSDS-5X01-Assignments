{
 "cells": [
  {
   "cell_type": "code",
   "execution_count": 2,
   "metadata": {},
   "outputs": [
    {
     "name": "stdout",
     "output_type": "stream",
     "text": [
      "The average is 23.166666666666668\n"
     ]
    }
   ],
   "source": [
    "# Problem 1\n",
    "# Average of a,b,c\n",
    "a = 20\n",
    "b = 37.0\n",
    "c = 12.5\n",
    "\n",
    "avg_abc = (a+b+c)/3\n",
    "print(\"The average is \"+str(avg_abc))"
   ]
  },
  {
   "cell_type": "code",
   "execution_count": 3,
   "metadata": {},
   "outputs": [
    {
     "name": "stdout",
     "output_type": "stream",
     "text": [
      "The cube root is 20.991682269042034\n"
     ]
    }
   ],
   "source": [
    "# Problem 2\n",
    "# Compute the geometric mean\n",
    "geo_mean = (a*b*c)**(1/3)\n",
    "print(\"The cube root is \" + str(geo_mean))\n"
   ]
  },
  {
   "cell_type": "code",
   "execution_count": 4,
   "metadata": {},
   "outputs": [
    {
     "name": "stdout",
     "output_type": "stream",
     "text": [
      "The quadratic equation has roots -1.4052343178074636 and -0.44476568219253637\n"
     ]
    }
   ],
   "source": [
    "# Problem 3\n",
    "# Find the roots\n",
    "d = (b**2)-(4*a*c)\n",
    "root_d = d**0.5\n",
    "root_1 = (b+root_d)/(-2*a)\n",
    "root_2 = (b-root_d)/(-2*a)\n",
    "print(\"The quadratic equation has roots \"+str(root_1)+\" and \"+str(root_2))"
   ]
  },
  {
   "cell_type": "code",
   "execution_count": 5,
   "metadata": {},
   "outputs": [
    {
     "name": "stdout",
     "output_type": "stream",
     "text": [
      "Input three numbers\n",
      "3\n",
      "9\n",
      "18\n",
      "Minimum: 3\n",
      "Maximum: 18\n",
      "Average: 10.0\n"
     ]
    }
   ],
   "source": [
    "# Problem 4\n",
    "# Input three values & print min, max, avg\n",
    "print(\"Input three numbers\")\n",
    "num1 = int(input())\n",
    "num2 = int(input())\n",
    "num3 = int(input())\n",
    "three_inputs = [num1, num2, num3]\n",
    "avg_num123 = (sum(three_inputs))/3\n",
    "print(\"Minimum: \"+str(min(three_inputs))+\"\\nMaximum: \" +\n",
    "      str(max(three_inputs))+\"\\nAverage: \"+str(avg_num123))"
   ]
  },
  {
   "cell_type": "code",
   "execution_count": 7,
   "metadata": {},
   "outputs": [
    {
     "name": "stdout",
     "output_type": "stream",
     "text": [
      "Area of the circle is 78.53981633974483\n",
      "Area of the cylinder is 471.23889803846896\n"
     ]
    }
   ],
   "source": [
    "# Problem 5\n",
    "# Surface Area\n",
    "import math\n",
    "\n",
    "r = 5.0\n",
    "h = 10.0\n",
    "\n",
    "S = math.pi*r*r\n",
    "print(f'Area of the circle is {S}')\n",
    "\n",
    "A = (2*S)+(2*h*r*math.pi)\n",
    "print(f'Area of the cylinder is {A}')"
   ]
  },
  {
   "cell_type": "code",
   "execution_count": 8,
   "metadata": {},
   "outputs": [
    {
     "name": "stdout",
     "output_type": "stream",
     "text": [
      "[15, 97, 20, 48, 72, 50, 45, 30, 45, 93]\n",
      "Mean is 51.5 \n",
      "Sample Variance is 191.36111111111111\n"
     ]
    }
   ],
   "source": [
    "# Problem 6\n",
    "# Print 10 values, Mean, & Sample Variance\n",
    "import random\n",
    "\n",
    "statlist = []\n",
    "for _ in range(10):\n",
    "    ele = random.randint(0, 100)\n",
    "    statlist.append(ele)\n",
    "print(statlist)\n",
    "mu = sum(statlist)/len(statlist)\n",
    "sum_var = 0\n",
    "\n",
    "for i in range(10):\n",
    "    new_sum = sum_var+((statlist[i]-mu)**2)\n",
    "sample_var = new_sum/9\n",
    "print(f\"Mean is {mu} \\nSample Variance is {sample_var}\")\n"
   ]
  },
  {
   "cell_type": "code",
   "execution_count": 9,
   "metadata": {},
   "outputs": [
    {
     "name": "stdout",
     "output_type": "stream",
     "text": [
      "Input a value between 1 and 26\n",
      "5\n",
      "The 5th letter of the alphabet is e\n"
     ]
    }
   ],
   "source": [
    "# Problem 7\n",
    "# Output nth letter of alphabet\n",
    "\n",
    "# String of alphabet for next few problems\n",
    "abc = 'abcdefghijklmnopqrstuvwxyz'\n",
    "\n",
    "print(\"Input a value between 1 and 26\")\n",
    "n = int(input())\n",
    "print(f\"The {n}th letter of the alphabet is {abc[(n-1)]}\")\n"
   ]
  },
  {
   "cell_type": "code",
   "execution_count": 10,
   "metadata": {},
   "outputs": [
    {
     "name": "stdout",
     "output_type": "stream",
     "text": [
      "abcdefghijklm\n"
     ]
    }
   ],
   "source": [
    "# Problem 8\n",
    "# First half of alphabet\n",
    "print(abc[0:13])"
   ]
  },
  {
   "cell_type": "code",
   "execution_count": 11,
   "metadata": {},
   "outputs": [
    {
     "name": "stdout",
     "output_type": "stream",
     "text": [
      "odd letters: acegikmoqsuwy \n",
      "even letters: bdfhjlnprtvxz\n"
     ]
    }
   ],
   "source": [
    "# Problem 9\n",
    "# Odd & Even Letters\n",
    "odd_l = ''\n",
    "even_l = ''\n",
    "for i in range(len(abc)):\n",
    "    if (i % 2) == 0:\n",
    "        odd_l += abc[i]\n",
    "    else:\n",
    "        even_l += abc[i]\n",
    "\n",
    "print(f\"odd letters: {odd_l} \\neven letters: {even_l}\")\n"
   ]
  },
  {
   "cell_type": "code",
   "execution_count": 13,
   "metadata": {},
   "outputs": [
    {
     "name": "stdout",
     "output_type": "stream",
     "text": [
      "Random Letter: l\n"
     ]
    }
   ],
   "source": [
    "# Problem 10\n",
    "# Random Letter in Alphabet\n",
    "import random\n",
    "\n",
    "x1 = random.randint(0, 25)\n",
    "print(\"Random Letter: \"+abc[x1])"
   ]
  },
  {
   "cell_type": "code",
   "execution_count": 14,
   "metadata": {},
   "outputs": [
    {
     "name": "stdout",
     "output_type": "stream",
     "text": [
      "van Rossum, Guido\n"
     ]
    }
   ],
   "source": [
    "# Problem 11\n",
    "# Format Names\n",
    "first_name = \"Guido\"\n",
    "last_name = \"van Rossum\"\n",
    "full_name = f\"{last_name}, {first_name}\"\n",
    "print(full_name)"
   ]
  },
  {
   "cell_type": "code",
   "execution_count": 15,
   "metadata": {},
   "outputs": [
    {
     "name": "stdout",
     "output_type": "stream",
     "text": [
      "Input a string\n",
      "Hello\n",
      "First Letter is H and the Last Letter is o\n"
     ]
    }
   ],
   "source": [
    "# Problem 12\n",
    "# Input string & Output first & last letter\n",
    "print(\"Input a string\")\n",
    "some_string = input()\n",
    "print(\"First Letter is \" +\n",
    "      str(some_string[0])+\" and the Last Letter is \"+str(some_string[-1]))"
   ]
  },
  {
   "cell_type": "code",
   "execution_count": 16,
   "metadata": {},
   "outputs": [
    {
     "name": "stdout",
     "output_type": "stream",
     "text": [
      "Input a string for the first five letters\n",
      "Computer\n",
      "Compu\n"
     ]
    }
   ],
   "source": [
    "# Problem 13\n",
    "# First 5 values of string\n",
    "# If the string has less than five letters, then the full string is printed\n",
    "print(\"Input a string for the first five letters\")\n",
    "a = input()\n",
    "print(a[:5])"
   ]
  },
  {
   "cell_type": "code",
   "execution_count": 17,
   "metadata": {},
   "outputs": [
    {
     "name": "stdout",
     "output_type": "stream",
     "text": [
      "Input a string that will be used to find the last five letters\n",
      "Computer\n",
      "The last five letters are puter\n"
     ]
    }
   ],
   "source": [
    "# Problem 14\n",
    "# Print last five letters\n",
    "# If the string is shorter than 5 letters, \n",
    "# then all the letters input appear.\n",
    "print(\"Input a string that will be used to find the last five letters\")\n",
    "b = input()\n",
    "print(f\"The last five letters are {b[-5:]}\")"
   ]
  },
  {
   "cell_type": "code",
   "execution_count": 18,
   "metadata": {},
   "outputs": [
    {
     "name": "stdout",
     "output_type": "stream",
     "text": [
      "a=2,b=1\n"
     ]
    }
   ],
   "source": [
    "# Problem 15\n",
    "# Switch the variables\n",
    "a, b = 1, 2\n",
    "print(f\"a={b},b={a}\")"
   ]
  },
  {
   "cell_type": "code",
   "execution_count": 19,
   "metadata": {},
   "outputs": [
    {
     "name": "stdout",
     "output_type": "stream",
     "text": [
      "Alice is a student\n"
     ]
    }
   ],
   "source": [
    "# Problem 16\n",
    "# Write Alice is a student.\n",
    "name = \"Alice\"\n",
    "occupation = \"student\"\n",
    "print(f\"{name} is a {occupation}\")\n"
   ]
  },
  {
   "cell_type": "code",
   "execution_count": 20,
   "metadata": {},
   "outputs": [
    {
     "name": "stdout",
     "output_type": "stream",
     "text": [
      "The sum of the tuple is -2.0539000000000005\n"
     ]
    }
   ],
   "source": [
    "# Problem 17\n",
    "# Find the sum of a tuple\n",
    "a = -0.084, 0.7726, 0.0731, -0.08, -0.2, 1.4953, - \\\n",
    "    0.771, -1.683, -1.936, -0.897, 2.3821, -1.126\n",
    "p17_sum = sum(a)\n",
    "print(f\"The sum of the tuple is {p17_sum}\")\n"
   ]
  },
  {
   "cell_type": "code",
   "execution_count": 21,
   "metadata": {},
   "outputs": [
    {
     "name": "stdout",
     "output_type": "stream",
     "text": [
      "The average of the values in the tuple is -0.17115833333333338\n"
     ]
    }
   ],
   "source": [
    "# Problem 18\n",
    "# Find the average of values in the tuple a\n",
    "p18_avg = p17_sum/len(a)\n",
    "print(f\"The average of the values in the tuple is {p18_avg}\")\n"
   ]
  },
  {
   "cell_type": "code",
   "execution_count": 22,
   "metadata": {},
   "outputs": [
    {
     "name": "stdout",
     "output_type": "stream",
     "text": [
      "(2, 1, 2, 3, 0, 0, 2, 1, 2, 2, 4, 3, 1, 3, 0, 2)\n",
      "found 3 zeros\n"
     ]
    }
   ],
   "source": [
    "# Problem 19\n",
    "# Print how many zeros it contains\n",
    "r = tuple(random.randint(0, 4) for i in range(16))\n",
    "print(r)\n",
    "\n",
    "count = r.count(0)\n",
    "print(f\"found {count} zeros\")"
   ]
  },
  {
   "cell_type": "code",
   "execution_count": 23,
   "metadata": {},
   "outputs": [
    {
     "name": "stdout",
     "output_type": "stream",
     "text": [
      "The minimum appeared 3 times in r\n"
     ]
    }
   ],
   "source": [
    "# Problem 20\n",
    "# How many of the values are the minimum value\n",
    "min_r = min(r)\n",
    "count_min_r = r.count(min_r)\n",
    "print(f\"The minimum appeared {count_min_r} times in r\")"
   ]
  },
  {
   "cell_type": "code",
   "execution_count": null,
   "metadata": {},
   "outputs": [],
   "source": []
  }
 ],
 "metadata": {
  "kernelspec": {
   "display_name": "Python 3",
   "language": "python",
   "name": "python3"
  },
  "language_info": {
   "codemirror_mode": {
    "name": "ipython",
    "version": 3
   },
   "file_extension": ".py",
   "mimetype": "text/x-python",
   "name": "python",
   "nbconvert_exporter": "python",
   "pygments_lexer": "ipython3",
   "version": "3.8.3"
  }
 },
 "nbformat": 4,
 "nbformat_minor": 4
}
